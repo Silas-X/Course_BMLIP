{
 "cells": [
  {
   "cell_type": "markdown",
   "metadata": {},
   "source": [
    "# [Code Example: Sampling Distribution and Likelihood Function for the Coin Toss](https://nbviewer.org/github/bertdv/BMLIP/blob/master/lessons/notebooks/Probability-Theory-Review.ipynb#Code-Example:-Sampling-Distribution-and-Likelihood-Function-for-the-Coin-Toss)"
   ]
  },
  {
   "cell_type": "code",
   "execution_count": 22,
   "metadata": {},
   "outputs": [
    {
     "name": "stderr",
     "output_type": "stream",
     "text": [
      "\u001b[32m\u001b[1m  Activating\u001b[22m\u001b[39m environment at `c:\\Users\\Silas\\Workspace\\JuliaProject\\Course_BMLIP\\Week2-ProbabilityReview\\probprog\\workspace\\Project.toml`\n",
      "\u001b[32m\u001b[1mPrecompiling\u001b[22m\u001b[39m project...\n",
      "\u001b[32m  ✓ \u001b[39m\u001b[90mDocumenter\u001b[39m\n",
      "\u001b[32m  ✓ \u001b[39mPyCall\n",
      "\u001b[32m  ✓ \u001b[39mCSV\n",
      "\u001b[32m  ✓ \u001b[39mForneyLab\n",
      "\u001b[32m  ✓ \u001b[39mPyPlot\n",
      "\u001b[32m  ✓ \u001b[39mPlots\n",
      "  6 dependencies successfully precompiled in 83 seconds (155 already precompiled)\n",
      "\u001b[32m\u001b[1mPrecompiling\u001b[22m\u001b[39m project...\n",
      "\u001b[32m  ✓ \u001b[39m\u001b[90mDocumenter\u001b[39m\n",
      "\u001b[32m  ✓ \u001b[39mPyCall\n",
      "\u001b[32m  ✓ \u001b[39mCSV\n",
      "\u001b[32m  ✓ \u001b[39mForneyLab\n",
      "\u001b[32m  ✓ \u001b[39mPyPlot\n"
     ]
    },
    {
     "name": "stdout",
     "output_type": "stream",
     "text": [
      "\u001b[32m\u001b[1m      Status\u001b[22m\u001b[39m `C:\\Users\\Silas\\Workspace\\JuliaProject\\Course_BMLIP\\Week2-ProbabilityReview\\probprog\\workspace\\Project.toml`\n"
     ]
    },
    {
     "name": "stderr",
     "output_type": "stream",
     "text": [
      "\u001b[32m  ✓ \u001b[39mPlots\n",
      "  6 dependencies successfully precompiled in 66 seconds (155 already precompiled)\n"
     ]
    },
    {
     "name": "stdout",
     "output_type": "stream",
     "text": [
      " \u001b[90m [336ed68f] \u001b[39mCSV v0.8.5\n",
      " \u001b[90m [35d6a980] \u001b[39mColorSchemes v3.15.0\n",
      " \u001b[90m [a93c6f00] \u001b[39mDataFrames v1.2.2\n",
      " \u001b[90m [31c24e10] \u001b[39mDistributions v0.25.34\n",
      " \u001b[90m [9fc3f58a] \u001b[39mForneyLab v0.11.3\n",
      " \u001b[90m [4138dd39] \u001b[39mJLD v0.12.3\n",
      " \u001b[90m [b964fa9f] \u001b[39mLaTeXStrings v1.3.0\n",
      " \u001b[90m [91a5bcdd] \u001b[39mPlots v1.24.3\n",
      " \u001b[90m [92933f4c] \u001b[39mProgressMeter v1.7.1\n",
      " \u001b[90m [438e738f] \u001b[39mPyCall v1.92.5\n",
      " \u001b[90m [d330b81b] \u001b[39mPyPlot v2.10.0\n",
      " \u001b[90m [276daf66] \u001b[39mSpecialFunctions v1.8.1\n",
      " \u001b[90m [2913bbd2] \u001b[39mStatsBase v0.33.13\n",
      " \u001b[90m [37e2e46d] \u001b[39mLinearAlgebra\n",
      " \u001b[90m [10745b16] \u001b[39mStatistics\n"
     ]
    }
   ],
   "source": [
    "using Pkg\n",
    "Pkg.activate(\"probprog/workspace\") # Set active environment\n",
    "Pkg.instantiate() #instantiate will automatically set all required packages states in the manifest\n",
    "Pkg.precompile() # Precompile to make thie progeam fater\n",
    "Pkg.status() # Check the currnet environment status\n",
    "# IJulia.clear_output(); # clear output of current cell,;# like matlab, ;"
   ]
  },
  {
   "cell_type": "code",
   "execution_count": 24,
   "metadata": {},
   "outputs": [],
   "source": [
    "using PyPlot\n",
    "using LaTeXStrings"
   ]
  },
  {
   "cell_type": "code",
   "execution_count": 48,
   "metadata": {},
   "outputs": [
    {
     "ename": "LoadError",
     "evalue": "MethodError: objects of type Vector{Float64} are not callable\nUse square brackets [] for indexing an Array.",
     "output_type": "error",
     "traceback": [
      "MethodError: objects of type Vector{Float64} are not callable\nUse square brackets [] for indexing an Array.",
      "",
      "Stacktrace:",
      " [1] top-level scope",
      "   @ In[48]:8",
      " [2] eval",
      "   @ .\\boot.jl:360 [inlined]",
      " [3] include_string(mapexpr::typeof(REPL.softscope), mod::Module, code::String, filename::String)",
      "   @ Base .\\loading.jl:1116"
     ]
    }
   ],
   "source": [
    "p(y,θ)=θ.^y.*(1 .- θ).^(1 .- y)\n",
    "f=figure()\n",
    "θ=0.5\n",
    "subplot(221);\n",
    "stem([0,1],p([0,1],θ));\n",
    "title(\"Sampling distribution\")\n",
    "xlim([-0.5,1.5]);\n",
    "ylim([0,1]);\n",
    "xlabel(\"y\");\n",
    "ylabel(\"p(y|θ=$(θ))\") # $ works like it in the shell script\n",
    "subplot(222);\n",
    "_θ = 0:0.01:1\n",
    "y = 1.0 # Plot p(y=1 | θ)\n",
    "plot(_θ,p(y,_θ))\n",
    "title(\"Likelihood function\"); \n",
    "xlabel(\"θ\"); \n",
    "ylabel(\"L(θ) = p(y=$y)|θ)\");"
   ]
  },
  {
   "cell_type": "code",
   "execution_count": 38,
   "metadata": {},
   "outputs": [
    {
     "data": {
      "text/plain": [
       "\"\\$\\theta\\$\""
      ]
     },
     "execution_count": 38,
     "metadata": {},
     "output_type": "execute_result"
    }
   ],
   "source": []
  },
  {
   "cell_type": "code",
   "execution_count": null,
   "metadata": {},
   "outputs": [],
   "source": []
  }
 ],
 "metadata": {
  "kernelspec": {
   "display_name": "Julia 1.6.3",
   "language": "julia",
   "name": "julia-1.6"
  },
  "language_info": {
   "file_extension": ".jl",
   "mimetype": "application/julia",
   "name": "julia",
   "version": "1.6.3"
  },
  "orig_nbformat": 4
 },
 "nbformat": 4,
 "nbformat_minor": 2
}
