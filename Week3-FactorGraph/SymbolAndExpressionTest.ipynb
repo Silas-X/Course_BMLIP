{
 "cells": [
  {
   "cell_type": "markdown",
   "metadata": {},
   "source": [
    "# Symbol and expression\n",
    "\n",
    "Magic result of symbol and expressions"
   ]
  },
  {
   "cell_type": "code",
   "execution_count": 22,
   "metadata": {},
   "outputs": [
    {
     "name": "stderr",
     "output_type": "stream",
     "text": [
      "\u001b[32m\u001b[1m  Activating\u001b[22m\u001b[39m environment at `c:\\Users\\Silas\\Workspace\\Courses\\JuliaProject\\Course_BMLIP\\Week3-FactorGraph\\workspace\\Project.toml`\n"
     ]
    }
   ],
   "source": [
    "using Pkg;\n",
    "Pkg.activate(\"workspace\")"
   ]
  },
  {
   "cell_type": "code",
   "execution_count": 23,
   "metadata": {},
   "outputs": [],
   "source": [
    "# using ForneyLab"
   ]
  },
  {
   "cell_type": "code",
   "execution_count": 24,
   "metadata": {},
   "outputs": [],
   "source": [
    "lst=Array{Symbol}(undef,3)\n",
    "for t=1:3\n",
    "    # lst[t]=:x_*t # Warning, this is defined in ForneyLab, not regular opeartion\n",
    "    lst[t]=Symbol(\"x_\",t)\n",
    "end\n",
    "for i=1:3\n",
    "    # :x_*i\n",
    "end\n",
    "# another method to create a multiline,expression\n",
    "# quote \n",
    "    # $(lst[1])=1 \n",
    "# end\n",
    "\n"
   ]
  },
  {
   "cell_type": "code",
   "execution_count": 25,
   "metadata": {},
   "outputs": [
    {
     "data": {
      "text/plain": [
       ":y_1"
      ]
     },
     "metadata": {},
     "output_type": "display_data"
    }
   ],
   "source": [
    ":y_*1"
   ]
  },
  {
   "cell_type": "code",
   "execution_count": 26,
   "metadata": {},
   "outputs": [
    {
     "name": "stdout",
     "output_type": "stream",
     "text": [
      "1"
     ]
    },
    {
     "name": "stdout",
     "output_type": "stream",
     "text": [
      "\n",
      "UndefVarError"
     ]
    },
    {
     "name": "stdout",
     "output_type": "stream",
     "text": [
      "(:x_2) occured\n",
      "x_3 is assigned value successuly: 1\n"
     ]
    },
    {
     "name": "stdout",
     "output_type": "stream",
     "text": [
      "MethodError"
     ]
    },
    {
     "name": "stdout",
     "output_type": "stream",
     "text": [
      "(convert, "
     ]
    },
    {
     "name": "stdout",
     "output_type": "stream",
     "text": [
      "("
     ]
    },
    {
     "name": "stdout",
     "output_type": "stream",
     "text": [
      "Symbol, 2), 0x0000000000007404) occured\n"
     ]
    }
   ],
   "source": [
    "try\n",
    "    @eval $(:x_1)=1 # @eval will always first convert the following string into a expression and then evaluate its value\n",
    "    println(x_1) \n",
    "catch excption\n",
    "    println(exception,\" occured\")\n",
    "end\n",
    "try\n",
    "    :($(:x_2)=1)\n",
    "    println(\"x_2 is assigned value successuly: \",x_2)\n",
    "catch exception\n",
    "    println(exception,\" occured\")\n",
    "end\n",
    "\n",
    "try\n",
    "    eval(:($(:x_3)=1))\n",
    "    println(\"x_3 is assigned value successuly: \",x_3)\n",
    "catch exception\n",
    "    println(exception,\" occured\")\n",
    "end\n",
    "\n",
    "try\n",
    "    ex=\n",
    "    quote\n",
    "        for i=1:3\n",
    "            $lst[i]=i+1\n",
    "        end\n",
    "    end\n",
    "    eval(ex);\n",
    "    \n",
    "    for i=1:3\n",
    "        println(lst[i])\n",
    "        println(eval(lst[i]))\n",
    "    end\n",
    "catch exception\n",
    "    println(exception,\" occured\")\n",
    "end"
   ]
  }
 ],
 "metadata": {
  "kernelspec": {
   "display_name": "Julia 1.6.4",
   "language": "julia",
   "name": "julia-1.6"
  },
  "language_info": {
   "file_extension": ".jl",
   "mimetype": "application/julia",
   "name": "julia",
   "version": "1.6.4"
  },
  "orig_nbformat": 4
 },
 "nbformat": 4,
 "nbformat_minor": 2
}
